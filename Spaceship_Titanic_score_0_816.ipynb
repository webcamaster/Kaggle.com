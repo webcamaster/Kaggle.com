{
  "nbformat": 4,
  "nbformat_minor": 0,
  "metadata": {
    "colab": {
      "name": "Spaceship Titanic score 0.816",
      "provenance": [],
      "collapsed_sections": [
        "J8CK8397Z88B",
        "6GDltxH0R5rk",
        "75eLwnvJHOwf",
        "UbwqXAsIJ1qQ"
      ]
    },
    "kernelspec": {
      "name": "python3",
      "display_name": "Python 3"
    },
    "language_info": {
      "name": "python"
    },
    "gpuClass": "standard",
    "accelerator": "GPU"
  },
  "cells": [
    {
      "cell_type": "code",
      "source": [
        "# !pip install -q kaggle\n",
        "# !pip install datawig\n",
        "!pip install catboost\n",
        "# !pip install featexp"
      ],
      "metadata": {
        "id": "K-1VovKO2V_M",
        "colab": {
          "base_uri": "https://localhost:8080/"
        },
        "outputId": "bbab7ede-201c-454e-e559-41db2d7180ce"
      },
      "execution_count": 2,
      "outputs": [
        {
          "output_type": "stream",
          "name": "stdout",
          "text": [
            "Looking in indexes: https://pypi.org/simple, https://us-python.pkg.dev/colab-wheels/public/simple/\n",
            "Collecting catboost\n",
            "  Downloading catboost-1.0.6-cp37-none-manylinux1_x86_64.whl (76.6 MB)\n",
            "\u001b[K     |████████████████████████████████| 76.6 MB 1.2 MB/s \n",
            "\u001b[?25hRequirement already satisfied: scipy in /usr/local/lib/python3.7/dist-packages (from catboost) (1.7.3)\n",
            "Requirement already satisfied: numpy>=1.16.0 in /usr/local/lib/python3.7/dist-packages (from catboost) (1.21.6)\n",
            "Requirement already satisfied: graphviz in /usr/local/lib/python3.7/dist-packages (from catboost) (0.10.1)\n",
            "Requirement already satisfied: matplotlib in /usr/local/lib/python3.7/dist-packages (from catboost) (3.2.2)\n",
            "Requirement already satisfied: plotly in /usr/local/lib/python3.7/dist-packages (from catboost) (5.5.0)\n",
            "Requirement already satisfied: six in /usr/local/lib/python3.7/dist-packages (from catboost) (1.15.0)\n",
            "Requirement already satisfied: pandas>=0.24.0 in /usr/local/lib/python3.7/dist-packages (from catboost) (1.3.5)\n",
            "Requirement already satisfied: python-dateutil>=2.7.3 in /usr/local/lib/python3.7/dist-packages (from pandas>=0.24.0->catboost) (2.8.2)\n",
            "Requirement already satisfied: pytz>=2017.3 in /usr/local/lib/python3.7/dist-packages (from pandas>=0.24.0->catboost) (2022.2)\n",
            "Requirement already satisfied: pyparsing!=2.0.4,!=2.1.2,!=2.1.6,>=2.0.1 in /usr/local/lib/python3.7/dist-packages (from matplotlib->catboost) (3.0.9)\n",
            "Requirement already satisfied: kiwisolver>=1.0.1 in /usr/local/lib/python3.7/dist-packages (from matplotlib->catboost) (1.4.4)\n",
            "Requirement already satisfied: cycler>=0.10 in /usr/local/lib/python3.7/dist-packages (from matplotlib->catboost) (0.11.0)\n",
            "Requirement already satisfied: typing-extensions in /usr/local/lib/python3.7/dist-packages (from kiwisolver>=1.0.1->matplotlib->catboost) (4.1.1)\n",
            "Requirement already satisfied: tenacity>=6.2.0 in /usr/local/lib/python3.7/dist-packages (from plotly->catboost) (8.0.1)\n",
            "Installing collected packages: catboost\n",
            "Successfully installed catboost-1.0.6\n"
          ]
        }
      ]
    },
    {
      "cell_type": "code",
      "source": [
        "# from google.colab import files\n",
        "# files.upload()\n",
        "\n",
        "from google.colab import drive\n",
        "drive.mount('/content/drive/')"
      ],
      "metadata": {
        "colab": {
          "base_uri": "https://localhost:8080/"
        },
        "id": "nrxuTDHMBYYY",
        "outputId": "eab0d64c-9978-4932-8b68-d344aa0be84a"
      },
      "execution_count": 3,
      "outputs": [
        {
          "output_type": "stream",
          "name": "stdout",
          "text": [
            "Mounted at /content/drive/\n"
          ]
        }
      ]
    },
    {
      "cell_type": "code",
      "source": [
        "!cp \"/content/drive/MyDrive/Colab Notebooks/kaggle.json\" \"/content/kaggle.json\"\n",
        "!mkdir ~/.kaggle/\n",
        "!cp /content/kaggle.json ~/.kaggle/\n",
        "!chmod 600 ~/.kaggle/kaggle.json"
      ],
      "metadata": {
        "id": "F1zbKEnV2YhK"
      },
      "execution_count": 4,
      "outputs": []
    },
    {
      "cell_type": "code",
      "source": [
        "!kaggle competitions download -c spaceship-titanic"
      ],
      "metadata": {
        "colab": {
          "base_uri": "https://localhost:8080/"
        },
        "id": "TzotjwAP3v4B",
        "outputId": "c4bf391a-5447-4909-b67b-b9f2290b719d"
      },
      "execution_count": 5,
      "outputs": [
        {
          "output_type": "stream",
          "name": "stdout",
          "text": [
            "Downloading spaceship-titanic.zip to /content\n",
            "\r  0% 0.00/299k [00:00<?, ?B/s]\n",
            "\r100% 299k/299k [00:00<00:00, 87.8MB/s]\n"
          ]
        }
      ]
    },
    {
      "cell_type": "code",
      "source": [
        "!unzip spaceship-titanic.zip"
      ],
      "metadata": {
        "id": "d9MH5tPqrwQa",
        "colab": {
          "base_uri": "https://localhost:8080/"
        },
        "outputId": "90503cc6-abc7-4615-d58b-fc08db52ea98"
      },
      "execution_count": 6,
      "outputs": [
        {
          "output_type": "stream",
          "name": "stdout",
          "text": [
            "Archive:  spaceship-titanic.zip\n",
            "  inflating: sample_submission.csv   \n",
            "  inflating: test.csv                \n",
            "  inflating: train.csv               \n"
          ]
        }
      ]
    },
    {
      "cell_type": "markdown",
      "source": [
        "# Загрузка библиотек"
      ],
      "metadata": {
        "id": "J8CK8397Z88B"
      }
    },
    {
      "cell_type": "code",
      "source": [
        "import math\n",
        "import numpy as np \n",
        "import pandas as pd \n",
        "import matplotlib.pyplot as plt\n",
        "import seaborn as sns\n",
        "sns.set(rc={'figure.figsize':(8, 4)})\n",
        "sns.color_palette(\"pastel\")\n",
        "import warnings\n",
        "warnings.filterwarnings('ignore')\n",
        "import missingno as msno\n",
        "# from featexp import get_univariate_plots\n",
        "# from featexp import get_trend_stats\n",
        "from tqdm import tqdm\n",
        "from catboost import CatBoostClassifier\n",
        "from sklearn.preprocessing import StandardScaler\n",
        "from sklearn.model_selection import train_test_split\n",
        "from sklearn.model_selection import cross_val_score"
      ],
      "metadata": {
        "id": "xluUKcXDMK5Z"
      },
      "execution_count": 87,
      "outputs": []
    },
    {
      "cell_type": "code",
      "source": [
        "PATH = '/content/'\n",
        "train_dataframe = pd.read_csv('/content/train.csv')\n",
        "test_dataframe = pd.read_csv('/content/test.csv')\n",
        "submission = pd.read_csv(\"/content/sample_submission.csv\")\n",
        "df = pd.concat([train_dataframe, test_dataframe], axis=0).reset_index(drop=True)\n",
        "print('train_dataframe', train_dataframe.shape)\n",
        "print('test_dataframe', test_dataframe.shape)\n",
        "print('df', df.shape)"
      ],
      "metadata": {
        "id": "tE4bq_geMeDD",
        "colab": {
          "base_uri": "https://localhost:8080/"
        },
        "outputId": "affd993f-8195-4d4e-d2af-aa6b6b4baf82"
      },
      "execution_count": 169,
      "outputs": [
        {
          "output_type": "stream",
          "name": "stdout",
          "text": [
            "train_dataframe (8693, 14)\n",
            "test_dataframe (4277, 13)\n",
            "df (12970, 14)\n"
          ]
        }
      ]
    },
    {
      "cell_type": "markdown",
      "source": [
        "# Feature engineering"
      ],
      "metadata": {
        "id": "6GDltxH0R5rk"
      }
    },
    {
      "cell_type": "code",
      "source": [
        "def feature_engineering(df):\n",
        "    def fix_5500(df):\n",
        "        if df > 5500:\n",
        "            return 5500\n",
        "        else:\n",
        "            return df\n",
        "    def fix_12500(df):\n",
        "        if df > 12500:\n",
        "            return 12500\n",
        "        else:\n",
        "            return df\n",
        "    def fix_22000(df):\n",
        "        if df > 22000:\n",
        "            return 22000\n",
        "        else:\n",
        "            return df\n",
        "\n",
        "    ### PassengerId\n",
        "    df['id_group'] = df['PassengerId'].apply(lambda x: x.split('_')[0]).astype(int)\n",
        "    df['passenger_num'] = df['PassengerId'].apply(lambda x: x.split('_')[1]).astype(int)\n",
        "    df = pd.merge(df, df[['id_group', 'PassengerId']].groupby('id_group').count().reset_index().rename(columns={'PassengerId': 'group_size'}), how='left', on='id_group')\n",
        "    df = df.drop('PassengerId', axis=1)\n",
        "    df = df.drop('id_group', axis=1)\n",
        "  \n",
        "    ### Name\n",
        "    df['Name'] = df['Name'].fillna('Unknown Unknown')\n",
        "    # df['Name'] = df['Name'].fillna(method='ffill')\n",
        "    def last_name(x):\n",
        "        try:\n",
        "            if x == type(float):\n",
        "                return np.NaN\n",
        "            else:\n",
        "                return x.split(\" \")[1]\n",
        "        except:\n",
        "            return np.NaN  \n",
        "    df['last_name'] = df['Name'].apply(last_name).astype(str)\n",
        "    df['last_name_len'] = df['last_name'].map(lambda x: len(x))\n",
        "    df['name_len'] = df['Name'].map(lambda x: len(x))\n",
        "    df = df.drop('Name', axis=1)\n",
        "    df = df.drop('last_name', axis=1)\n",
        "  \n",
        "    ### Total_bill\n",
        "    def to_bool_5500(df):\n",
        "        if df == 5500:\n",
        "            return 1\n",
        "        else:\n",
        "            return 0\n",
        "    def to_bool_12500(df):\n",
        "        if df == 12500:\n",
        "            return 1\n",
        "        else:\n",
        "            return 0\n",
        "    df['RoomService'] = df['RoomService'].fillna(0).apply(fix_5500)\n",
        "    df['RoomService_bool'] = df['RoomService'].apply(to_bool_5500)\n",
        "\n",
        "    df['FoodCourt'] = df['FoodCourt'].fillna(0).apply(fix_12500)\n",
        "    df['FoodCourt_bool'] = df['FoodCourt'].apply(to_bool_12500)\n",
        "\n",
        "    df['ShoppingMall'] = df['ShoppingMall'].fillna(0).apply(fix_5500)\n",
        "    df['ShoppingMall_bool'] = df['ShoppingMall'].apply(to_bool_5500)\n",
        "\n",
        "    df['Spa'] = df['Spa'].fillna(0).apply(fix_12500)\n",
        "    df['Spa_bool'] = df['Spa'].apply(to_bool_12500)\n",
        "\n",
        "    df['VRDeck'] = df['VRDeck'].fillna(0).apply(fix_12500)\n",
        "    df['VRDeck_bool'] = df['VRDeck'].apply(to_bool_12500)\n",
        "\n",
        "    def to_bool_22000(df):\n",
        "        if df == 22000:\n",
        "            return 1\n",
        "        else:\n",
        "            return 0\n",
        "    df['total'] = (df['RoomService'] + df['FoodCourt'] + df['ShoppingMall'] + df['Spa'] + df['VRDeck']).apply(fix_22000)\n",
        "    df['total_bool'] = df['total'].apply(to_bool_22000)\n",
        "\n",
        "    def paid_to_family(df):\n",
        "        if df == 22000:\n",
        "            return 1\n",
        "        else:\n",
        "            return 0\n",
        "    df['paid_to_family'] = df['total'].apply(paid_to_family)\n",
        "\n",
        "\n",
        "    ### Cabin\n",
        "    # df['Cabin'] = df['Cabin'].fillna('Unknown/9999/Unknown')\n",
        "    df['Cabin'] = df['Cabin'].fillna('Unknown/2000/Unknown')\n",
        "    df['Cabin_deck'] = df['Cabin'].apply(lambda x: x.split('/')[0]).astype(str)\n",
        "    df['Cabin_num'] = df['Cabin'].apply(lambda x: x.split('/')[1]).astype(int)\n",
        "    df['Cabin_deck_group'] = pd.cut(x=df['Cabin_num'], bins=[-1, 3, 107, 295, 342, 343, 354, 609, 1508], labels=['1', '2', '3', '4', '5', '6', '7', '8']).astype(str)\n",
        "    df['Cabin_side'] = df['Cabin'].apply(lambda x: x.split('/')[2]).astype(str)\n",
        "    df['Cabin_len'] = df['Cabin'].apply(lambda x: len(x)).astype(int)\n",
        "    df = df.drop('Cabin', axis=1)\n",
        "\n",
        "    ### Age\n",
        "    df['Age'] = df['Age'].fillna(df['Age'].mean()-5)\n",
        "    df['Age_group'] = pd.cut(x=df['Age'], bins=[-1, 5, 10, 15, 20, 30, 40, 50, 60, 70, 75, 100], labels=['0-5', '6-10', '11-15', '16-20', '21-30', '31-40', '41-50', '51-60', '61-70', '71-75', '76-100']).astype(str)\n",
        "\n",
        "    ### HomePlanet\n",
        "    df['HomePlanet'] = df['HomePlanet'].fillna(method='ffill')\n",
        "\n",
        "    ### CryoSleep\n",
        "    df['CryoSleep'] = df['CryoSleep'].fillna(method='ffill').astype(int)\n",
        "\n",
        "    ### Destination\n",
        "    df['Destination'] = df['Destination'].fillna(method='ffill')\n",
        "  \n",
        "    ### VIP\n",
        "    df['VIP'] = df['VIP'].fillna(method='ffill').astype(int)\n",
        "\n",
        "    return df"
      ],
      "metadata": {
        "id": "ZgF2_wdrp9sP"
      },
      "execution_count": 170,
      "outputs": []
    },
    {
      "cell_type": "code",
      "source": [
        "df = feature_engineering(df)"
      ],
      "metadata": {
        "id": "cocprPWYVwHu"
      },
      "execution_count": 171,
      "outputs": []
    },
    {
      "cell_type": "code",
      "source": [
        "train_dataframe = df[df['Transported'].notnull()]\n",
        "test_dataframe = df[df['Transported'].isnull()]\n",
        "print('train_dataframe', train_dataframe.shape)\n",
        "print('test_dataframe', test_dataframe.shape)"
      ],
      "metadata": {
        "colab": {
          "base_uri": "https://localhost:8080/"
        },
        "id": "XfwHuiXOT7wM",
        "outputId": "45510b12-f256-4c5d-e31a-d8da38581485"
      },
      "execution_count": 172,
      "outputs": [
        {
          "output_type": "stream",
          "name": "stdout",
          "text": [
            "train_dataframe (8693, 29)\n",
            "test_dataframe (4277, 29)\n"
          ]
        }
      ]
    },
    {
      "cell_type": "code",
      "source": [
        "feats_cat = []\n",
        "feats_num = []\n",
        "for col in train_dataframe.columns:\n",
        "    if col in ['PassengerId', 'Transported']:\n",
        "        continue\n",
        "    if train_dataframe[col].dtype == 'object':\n",
        "        feats_cat += [col]\n",
        "    else:\n",
        "        feats_num += [col]\n",
        "        \n",
        "X_cat = pd.get_dummies(train_dataframe[feats_cat])\n",
        "X_num = train_dataframe[feats_num]\n",
        "X_pred_cat = pd.get_dummies(test_dataframe[feats_cat])\n",
        "X_pred_num = test_dataframe[feats_num]\n",
        "\n",
        "X = pd.concat([X_cat, X_num], axis=1)\n",
        "y = train_dataframe['Transported'].astype(int)\n",
        "X_pred = pd.concat([X_pred_cat, X_pred_num], axis=1)\n",
        "\n",
        "print('X', X.shape)\n",
        "print('y', y.shape)\n",
        "print('X_pred', X_pred.shape)"
      ],
      "metadata": {
        "id": "TirilOf_OBlN",
        "colab": {
          "base_uri": "https://localhost:8080/"
        },
        "outputId": "9465c741-22b9-42e1-ead5-ddc934bc84f9"
      },
      "execution_count": 173,
      "outputs": [
        {
          "output_type": "stream",
          "name": "stdout",
          "text": [
            "X (8693, 60)\n",
            "y (8693,)\n",
            "X_pred (4277, 60)\n"
          ]
        }
      ]
    },
    {
      "cell_type": "code",
      "source": [
        "col_names = list(X.columns)\n",
        "s_scaler = StandardScaler()\n",
        "X_scaled= s_scaler.fit_transform(X)\n",
        "X_scaled = pd.DataFrame(X_scaled, columns=col_names)   \n",
        "\n",
        "X_pred_scaled= s_scaler.fit_transform(X_pred)\n",
        "X_pred_scaled = pd.DataFrame(X_pred_scaled, columns=col_names)   "
      ],
      "metadata": {
        "id": "uN_Vf5ZX3h65"
      },
      "execution_count": 177,
      "outputs": []
    },
    {
      "cell_type": "code",
      "source": [
        "X_train, X_test, y_train, y_test = train_test_split(X, y, test_size=0.33, random_state=42)"
      ],
      "metadata": {
        "id": "Aou9uaQDSjDJ"
      },
      "execution_count": 180,
      "outputs": []
    },
    {
      "cell_type": "markdown",
      "source": [
        "# Catboost"
      ],
      "metadata": {
        "id": "75eLwnvJHOwf"
      }
    },
    {
      "cell_type": "code",
      "source": [
        "clf=CatBoostClassifier(\n",
        "                         iterations=10000,\n",
        "                         learning_rate=0.023,\n",
        "                         max_depth=6,\n",
        "                         l2_leaf_reg=22,\n",
        "                         verbose=1000,\n",
        "                         random_seed=42,\n",
        "                         eval_metric='Accuracy',\n",
        "                         early_stopping_rounds=500,\n",
        "                        )\n",
        "# clf.fit(X_scaled, y)\n",
        "# clf.fit(X,y,eval_set=(X,y),use_best_model=True)\n",
        "clf.fit(X_train,y_train,eval_set=(X_test,y_test),use_best_model=True)\n",
        "# clf.fit(X_train, y_train)\n",
        "clf.score(X_test, y_test)\n"
      ],
      "metadata": {
        "id": "sodo4eHJs0Te",
        "colab": {
          "base_uri": "https://localhost:8080/"
        },
        "outputId": "60db072d-85f5-4016-b334-a41f9590ad56"
      },
      "execution_count": 189,
      "outputs": [
        {
          "output_type": "stream",
          "name": "stdout",
          "text": [
            "0:\tlearn: 0.7506868\ttest: 0.7434646\tbest: 0.7434646 (0)\ttotal: 13.1ms\tremaining: 2m 11s\n",
            "1000:\tlearn: 0.8683036\ttest: 0.8062043\tbest: 0.8069014 (986)\ttotal: 6.99s\tremaining: 1m 2s\n",
            "2000:\tlearn: 0.9038462\ttest: 0.8138724\tbest: 0.8142210 (1909)\ttotal: 12.2s\tremaining: 48.7s\n",
            "3000:\tlearn: 0.9273695\ttest: 0.8128268\tbest: 0.8163123 (2552)\ttotal: 17.3s\tremaining: 40.4s\n",
            "Stopped by overfitting detector  (500 iterations wait)\n",
            "\n",
            "bestTest = 0.8163123039\n",
            "bestIteration = 2552\n",
            "\n",
            "Shrink model to first 2553 iterations.\n"
          ]
        },
        {
          "output_type": "execute_result",
          "data": {
            "text/plain": [
              "0.8163123039386546"
            ]
          },
          "metadata": {},
          "execution_count": 189
        }
      ]
    },
    {
      "cell_type": "markdown",
      "source": [
        "# Features checking"
      ],
      "metadata": {
        "id": "R1-2862aQvwu"
      }
    },
    {
      "cell_type": "markdown",
      "source": [
        "# Predict"
      ],
      "metadata": {
        "id": "UbwqXAsIJ1qQ"
      }
    },
    {
      "cell_type": "code",
      "source": [
        "predictions = clf.predict(X_pred)#\n",
        "predictions = predictions.astype(str)\n",
        "predictions = np.char.replace(predictions, '0', 'False')\n",
        "predictions = np.char.replace(predictions, '1', 'True')"
      ],
      "metadata": {
        "id": "hUdivOiErKtK"
      },
      "execution_count": 108,
      "outputs": []
    },
    {
      "cell_type": "code",
      "source": [
        "submission['Transported'] = predictions\n",
        "submission.to_csv('submission.csv', index=False)\n",
        "submission = pd.read_csv(\"submission.csv\")"
      ],
      "metadata": {
        "id": "9eYb4wWXqQCW"
      },
      "execution_count": 109,
      "outputs": []
    },
    {
      "cell_type": "code",
      "source": [
        "!kaggle competitions submit -c spaceship-titanic -f submission.csv -m \"train_test_split clear\""
      ],
      "metadata": {
        "id": "z1V-EamCrTyO",
        "colab": {
          "base_uri": "https://localhost:8080/"
        },
        "outputId": "606ffddb-1c98-4f4e-ab88-6a1e32a05a88"
      },
      "execution_count": 110,
      "outputs": [
        {
          "output_type": "stream",
          "name": "stdout",
          "text": [
            "100% 56.3k/56.3k [00:02<00:00, 21.3kB/s]\n",
            "400 - Bad Request\n"
          ]
        }
      ]
    }
  ]
}